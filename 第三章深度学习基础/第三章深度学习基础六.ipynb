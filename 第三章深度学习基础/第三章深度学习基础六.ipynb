{
 "cells": [
  {
   "cell_type": "code",
   "execution_count": 6,
   "metadata": {
    "collapsed": true,
    "pycharm": {
     "name": "#%%\n"
    }
   },
   "outputs": [],
   "source": [
    "import os\n",
    "import torch\n",
    "from torch import nn, optim\n",
    "import torch.nn.functional as F\n",
    "#from torch.autograd import Variable\n",
    "from torchvision import datasets, transforms"
   ]
  },
  {
   "cell_type": "code",
   "execution_count": 7,
   "outputs": [],
   "source": [
    "transform = transforms.Compose([\n",
    "    transforms.ToTensor(),\n",
    "    transforms.Normalize((0.1307,), (0.3081,))\n",
    "])"
   ],
   "metadata": {
    "collapsed": false,
    "pycharm": {
     "name": "#%%\n"
    }
   }
  },
  {
   "cell_type": "code",
   "execution_count": 8,
   "outputs": [
    {
     "name": "stdout",
     "output_type": "stream",
     "text": [
      "Downloading http://yann.lecun.com/exdb/mnist/train-images-idx3-ubyte.gz\n",
      "Downloading http://yann.lecun.com/exdb/mnist/train-images-idx3-ubyte.gz to data/MNIST/raw/train-images-idx3-ubyte.gz\n"
     ]
    },
    {
     "name": "stderr",
     "output_type": "stream",
     "text": [
      "96.7%IOPub message rate exceeded.\n",
      "The notebook server will temporarily stop sending output\n",
      "to the client in order to avoid crashing it.\n",
      "To change this limit, set the config variable\n",
      "`--NotebookApp.iopub_msg_rate_limit`.\n",
      "\n",
      "Current values:\n",
      "NotebookApp.iopub_msg_rate_limit=1000.0 (msgs/sec)\n",
      "NotebookApp.rate_limit_window=3.0 (secs)\n",
      "\n",
      "102.8%\n"
     ]
    },
    {
     "name": "stdout",
     "output_type": "stream",
     "text": [
      "Extracting data/MNIST/raw/train-labels-idx1-ubyte.gz to data/MNIST/raw\n",
      "\n",
      "Downloading http://yann.lecun.com/exdb/mnist/t10k-images-idx3-ubyte.gz\n",
      "Downloading http://yann.lecun.com/exdb/mnist/t10k-images-idx3-ubyte.gz to data/MNIST/raw/t10k-images-idx3-ubyte.gz\n"
     ]
    },
    {
     "name": "stderr",
     "output_type": "stream",
     "text": [
      "100.0%\n"
     ]
    },
    {
     "name": "stdout",
     "output_type": "stream",
     "text": [
      "Extracting data/MNIST/raw/t10k-images-idx3-ubyte.gz to data/MNIST/raw\n",
      "\n",
      "Downloading http://yann.lecun.com/exdb/mnist/t10k-labels-idx1-ubyte.gz\n",
      "Downloading http://yann.lecun.com/exdb/mnist/t10k-labels-idx1-ubyte.gz to data/MNIST/raw/t10k-labels-idx1-ubyte.gz\n"
     ]
    },
    {
     "name": "stderr",
     "output_type": "stream",
     "text": [
      "112.7%"
     ]
    },
    {
     "name": "stdout",
     "output_type": "stream",
     "text": [
      "Extracting data/MNIST/raw/t10k-labels-idx1-ubyte.gz to data/MNIST/raw\n",
      "\n"
     ]
    },
    {
     "name": "stderr",
     "output_type": "stream",
     "text": [
      "\n"
     ]
    }
   ],
   "source": [
    "trainset = datasets.MNIST('data', train=True, download=True, transform=transform)\n",
    "testset = datasets.MNIST('data', train=False, download=True, transform=transform)"
   ],
   "metadata": {
    "collapsed": false,
    "pycharm": {
     "name": "#%%\n"
    }
   }
  },
  {
   "cell_type": "code",
   "execution_count": 9,
   "outputs": [],
   "source": [
    "class LeNet(nn.Module):\n",
    "    # 定义Net的初始化函数，本函数定义了神经网络的基本结构\n",
    "    def __init__(self):\n",
    "        # 继承父类的初始化方法，即先运行nn.Module的初始化函数\n",
    "        super(LeNet,self).__init__()\n",
    "        # C1卷积层：输入1张灰度图片，输出6张特征图，卷积核5x5\n",
    "        self.c1 = nn.Conv2d(1,6,(5,5))\n",
    "        # C3卷积层：输入6张特征图，输出16张特征图，卷积核5x5\n",
    "        self.c3 = nn.Conv2d(6,16,5)\n",
    "        # 全连接层S4->C5：从S4到C5是全连接，S4层中16*4*4个节点全连接到C5层的120个节点上\n",
    "        self.fc1 = nn.Linear(16*4*4,120)\n",
    "        # 全连接层C5->F6：C5层的120个节点全连接到F6的84个节点上\n",
    "        self.fc2 = nn.Linear(120,84)\n",
    "        # 全连接层F6->OUTPUT：F6层的84个节点全连接到OUTPUT层的10个节点上，10个节点的输出代表着0到9的不同分值。\n",
    "        self.fc3 = nn.Linear(84,10)\n",
    "\n",
    "    # 定义向前传播函数\n",
    "    def forward(self,x):\n",
    "        # 输入的灰度图片x经过c1的卷积之后得到6张特征图，然后使用relu函数，增强网络的非线性拟合能力，接着使用2x2窗口的最大池化，然后更新到x\n",
    "        x = F.max_pool2d(F.relu(self.c1(x)),2)\n",
    "        # 输入x经过c3的卷积之后由原来的6张特征图变成16张特征图，经过relu函数，并使用最大池化后将结果更新到x\n",
    "        x = F.max_pool2d(F.relu(self.c3(x)),2)\n",
    "        # 使用view函数将张量x（S4）变形成一维向量形式，总特征数不变，为全连接层做准备\n",
    "        x = x.view(-1,self.num_flat_features(x))\n",
    "        # 输入S4经过全连接层fc1，再经过relu，更新到x\n",
    "        x = F.relu(self.fc1(x))\n",
    "        # 输入C5经过全连接层fc2，再经过relu，更新到x\n",
    "        x = F.relu(self.fc2(x))\n",
    "        # 输入F6经过全连接层fc3，更新到x\n",
    "        x = self.fc3(x)\n",
    "        return x\n",
    "\n",
    "    # 计算张量x的总特征量\n",
    "    def num_flat_features(self,x):\n",
    "        # 由于默认批量输入，第零维度的batch剔除\n",
    "        size = x.size()[1:]\n",
    "        num_features = 1\n",
    "        for s in size:\n",
    "            num_features *= s\n",
    "        return num_features"
   ],
   "metadata": {
    "collapsed": false,
    "pycharm": {
     "name": "#%%\n"
    }
   }
  },
  {
   "cell_type": "code",
   "execution_count": 11,
   "outputs": [],
   "source": [
    "lenet = LeNet()\n",
    "\n",
    "criterion=nn.CrossEntropyLoss()\n",
    "optimizer = optim.SGD(lenet.parameters(),lr=0.001,momentum=0.9)"
   ],
   "metadata": {
    "collapsed": false,
    "pycharm": {
     "name": "#%%\n"
    }
   }
  },
  {
   "cell_type": "code",
   "execution_count": 12,
   "outputs": [],
   "source": [
    "trainloader = torch.utils.data.DataLoader(trainset,batch_size=4, shuffle=True, num_workers=2)\n",
    "testloader = torch.utils.data.DataLoader(testset,batch_size=4, shuffle=False, num_workers=2)"
   ],
   "metadata": {
    "collapsed": false,
    "pycharm": {
     "name": "#%%\n"
    }
   }
  },
  {
   "cell_type": "code",
   "execution_count": 15,
   "outputs": [],
   "source": [
    "def train(model,criterion,optimizer,epochs=1):\n",
    "    for epoch in range(epochs):\n",
    "        running_loss = 0.0\n",
    "        for i, data in enumerate(trainloader,0):\n",
    "            inputs,labels = data\n",
    "\n",
    "            optimizer.zero_grad()\n",
    "            outputs = model(inputs)\n",
    "\n",
    "            loss = criterion(outputs,labels)\n",
    "            loss.backward()\n",
    "            optimizer.step()\n",
    "\n",
    "            running_loss += loss.item()\n",
    "\n",
    "            if i%1000==999:\n",
    "                print('[Epoch:%d, Batch:%5d] Loss: %.3f' % (epoch+1, i+1, running_loss / 1000))\n",
    "                running_loss = 0.0\n",
    "\n",
    "    print('Finished Training')"
   ],
   "metadata": {
    "collapsed": false,
    "pycharm": {
     "name": "#%%\n"
    }
   }
  },
  {
   "cell_type": "code",
   "execution_count": 16,
   "outputs": [
    {
     "name": "stdout",
     "output_type": "stream",
     "text": [
      "[Epoch:1, Batch: 1000] Loss: 1.579\n",
      "[Epoch:1, Batch: 2000] Loss: 0.329\n",
      "[Epoch:1, Batch: 3000] Loss: 0.200\n",
      "[Epoch:1, Batch: 4000] Loss: 0.170\n",
      "[Epoch:1, Batch: 5000] Loss: 0.142\n",
      "[Epoch:1, Batch: 6000] Loss: 0.106\n",
      "[Epoch:1, Batch: 7000] Loss: 0.120\n",
      "[Epoch:1, Batch: 8000] Loss: 0.103\n",
      "[Epoch:1, Batch: 9000] Loss: 0.102\n",
      "[Epoch:1, Batch:10000] Loss: 0.107\n",
      "[Epoch:1, Batch:11000] Loss: 0.102\n",
      "[Epoch:1, Batch:12000] Loss: 0.099\n",
      "[Epoch:1, Batch:13000] Loss: 0.093\n",
      "[Epoch:1, Batch:14000] Loss: 0.076\n",
      "[Epoch:1, Batch:15000] Loss: 0.078\n",
      "[Epoch:2, Batch: 1000] Loss: 0.070\n",
      "[Epoch:2, Batch: 2000] Loss: 0.062\n",
      "[Epoch:2, Batch: 3000] Loss: 0.056\n",
      "[Epoch:2, Batch: 4000] Loss: 0.072\n",
      "[Epoch:2, Batch: 5000] Loss: 0.064\n",
      "[Epoch:2, Batch: 6000] Loss: 0.063\n",
      "[Epoch:2, Batch: 7000] Loss: 0.064\n",
      "[Epoch:2, Batch: 8000] Loss: 0.053\n",
      "[Epoch:2, Batch: 9000] Loss: 0.048\n",
      "[Epoch:2, Batch:10000] Loss: 0.053\n",
      "[Epoch:2, Batch:11000] Loss: 0.052\n",
      "[Epoch:2, Batch:12000] Loss: 0.063\n",
      "[Epoch:2, Batch:13000] Loss: 0.060\n",
      "[Epoch:2, Batch:14000] Loss: 0.040\n",
      "[Epoch:2, Batch:15000] Loss: 0.058\n",
      "Finished Training\n"
     ]
    }
   ],
   "source": [
    "train(lenet,criterion,optimizer,epochs=2)"
   ],
   "metadata": {
    "collapsed": false,
    "pycharm": {
     "name": "#%%\n"
    }
   }
  },
  {
   "cell_type": "code",
   "execution_count": 17,
   "outputs": [],
   "source": [
    "torch.save(lenet,'model.pkl')"
   ],
   "metadata": {
    "collapsed": false,
    "pycharm": {
     "name": "#%%\n"
    }
   }
  },
  {
   "cell_type": "code",
   "execution_count": null,
   "outputs": [],
   "source": [
    "lenet=torch.load('model.pkl')"
   ],
   "metadata": {
    "collapsed": false,
    "pycharm": {
     "name": "#%%\n"
    }
   }
  }
 ],
 "metadata": {
  "kernelspec": {
   "display_name": "Python 3",
   "language": "python",
   "name": "python3"
  },
  "language_info": {
   "codemirror_mode": {
    "name": "ipython",
    "version": 2
   },
   "file_extension": ".py",
   "mimetype": "text/x-python",
   "name": "python",
   "nbconvert_exporter": "python",
   "pygments_lexer": "ipython2",
   "version": "2.7.6"
  }
 },
 "nbformat": 4,
 "nbformat_minor": 0
}