{
 "cells": [
  {
   "cell_type": "markdown",
   "source": [
    "## 5.3利用Pytorch构造神经翻译机\n",
    "### 1准备文本数据"
   ],
   "metadata": {
    "collapsed": false,
    "pycharm": {
     "name": "#%% md\n"
    }
   }
  },
  {
   "cell_type": "code",
   "execution_count": 1,
   "metadata": {
    "collapsed": true,
    "pycharm": {
     "name": "#%%\n"
    }
   },
   "outputs": [],
   "source": [
    "from __future__ import unicode_literals, print_function, division\n",
    "from io import open\n",
    "import unicodedata\n",
    "import re\n",
    "import random\n",
    "\n",
    "import torch\n",
    "import torch.nn as nn\n",
    "from torch import optim\n",
    "import torch.nn.functional as F"
   ]
  },
  {
   "cell_type": "code",
   "execution_count": 2,
   "outputs": [],
   "source": [
    "SOS_token = 0\n",
    "EOS_token = 1"
   ],
   "metadata": {
    "collapsed": false,
    "pycharm": {
     "name": "#%%\n"
    }
   }
  },
  {
   "cell_type": "code",
   "execution_count": 3,
   "outputs": [],
   "source": [
    "# 创建一个字典库，创建数字与单词的一一对应的字典\n",
    "class LangEmbed:\n",
    "    def __init__(self, name):\n",
    "        self.name = name\n",
    "        self.word2index = {}\n",
    "        self.word2count = {}\n",
    "        self.index2word = {0: \"SOS\", 1: \"EOS\"}\n",
    "        self.n_words = 2\n",
    "\n",
    "    def addSentence(self, sentence):\n",
    "        for word in sentence.split(' '):\n",
    "            self.addWord(word)\n",
    "\n",
    "    def addWord(self, word):\n",
    "        if word not in self.word2index:\n",
    "            self.word2index[word] = self.n_words\n",
    "            self.word2count[word] = 1\n",
    "            self.index2word[self.n_words] = word\n",
    "            self.n_words += 1\n",
    "        else:\n",
    "            self.word2count[word] += 1\n"
   ],
   "metadata": {
    "collapsed": false,
    "pycharm": {
     "name": "#%%\n"
    }
   }
  },
  {
   "cell_type": "code",
   "execution_count": 4,
   "outputs": [],
   "source": [
    "def unicodeToAscii(s):\n",
    "    return ''.join(\n",
    "        c for c in unicodedata.normalize('NFD', s)\n",
    "        if unicodedata.category(c) != 'Mn'\n",
    "    )\n",
    "\n",
    "\n",
    "def normalizeString(s):\n",
    "    s = unicodeToAscii(s.lower().strip())\n",
    "    s = re.sub(r\"([.!?])\", r\" \\1\", s)\n",
    "    s = re.sub(r\"[^a-zA-Z.!?]+\", r\" \", s)\n",
    "    return s"
   ],
   "metadata": {
    "collapsed": false,
    "pycharm": {
     "name": "#%%\n"
    }
   }
  },
  {
   "cell_type": "code",
   "execution_count": 5,
   "outputs": [],
   "source": [
    "MAX_LENGTH = 10\n",
    "eng_prefixes = (\n",
    "    \"i am \", \"i m \",\n",
    "    \"he is\", \"he s \",\n",
    "    \"she is\", \"she s\",\n",
    "    \"you are\", \"you re \",\n",
    "    \"we are\", \"we re \",\n",
    "    \"they are\", \"they re \"\n",
    ")\n",
    "\n",
    "\n",
    "def filterPairs(pairs):\n",
    "    p = []\n",
    "    for pair in pairs:\n",
    "        if len(pair[0].split(' ')) < MAX_LENGTH and len(pair[1].split(' ')) < MAX_LENGTH and pair[0].startswith(\n",
    "                eng_prefixes):\n",
    "            p.append(pair)\n",
    "    return p"
   ],
   "metadata": {
    "collapsed": false,
    "pycharm": {
     "name": "#%%\n"
    }
   }
  },
  {
   "cell_type": "code",
   "execution_count": 6,
   "outputs": [],
   "source": [
    "def prepareData():\n",
    "    # Read the file and split into lines\n",
    "    lines = open('data/eng-fra.txt', encoding='utf-8').read().strip().split('\\n')\n",
    "\n",
    "    # Split every line into pairs and normalize\n",
    "    pairs = [[normalizeString(s) for s in l.split('\\t')] for l in lines]\n",
    "\n",
    "    fra_lang = LangEmbed(\"fra\")\n",
    "    eng_lang = LangEmbed(\"eng\")\n",
    "\n",
    "    print(\"Read %s sentence pairs\" % len(pairs))\n",
    "\n",
    "    pairs = filterPairs(pairs)\n",
    "    print(\"Trimmed to %s sentence pairs\" % len(pairs))\n",
    "\n",
    "    for pair in pairs:\n",
    "        fra_lang.addSentence(pair[1])\n",
    "        eng_lang.addSentence(pair[0])\n",
    "    print(\"Number of Words:\")\n",
    "    print(\"eng:\", eng_lang.n_words)\n",
    "    print(\"fra:\", fra_lang.n_words)\n",
    "    return fra_lang, eng_lang, pairs"
   ],
   "metadata": {
    "collapsed": false,
    "pycharm": {
     "name": "#%%\n"
    }
   }
  },
  {
   "cell_type": "code",
   "execution_count": 7,
   "outputs": [
    {
     "name": "stdout",
     "output_type": "stream",
     "text": [
      "Read 135842 sentence pairs\n",
      "Trimmed to 10853 sentence pairs\n",
      "Number of Words:\n",
      "eng: 2925\n",
      "fra: 4489\n"
     ]
    }
   ],
   "source": [
    "input_lang, output_lang, pairs = prepareData()"
   ],
   "metadata": {
    "collapsed": false,
    "pycharm": {
     "name": "#%%\n"
    }
   }
  },
  {
   "cell_type": "code",
   "execution_count": 8,
   "outputs": [
    {
     "name": "stdout",
     "output_type": "stream",
     "text": [
      "English LangEmbed:\n",
      "0 : SOS\n",
      "1 : EOS\n",
      "2 : i\n",
      "3 : m\n",
      "4 : .\n",
      "5 : ok\n",
      "6 : fat\n",
      "7 : fit\n",
      "8 : hit\n",
      "9 : !\n",
      "...\n",
      "French LangEmbed:\n",
      "0 : SOS\n",
      "1 : EOS\n",
      "2 : j\n",
      "3 : ai\n",
      "4 : ans\n",
      "5 : .\n",
      "6 : je\n",
      "7 : vais\n",
      "8 : bien\n",
      "9 : ca\n",
      "...\n",
      "['you re courteous .', 'vous etes courtoise .']\n"
     ]
    }
   ],
   "source": [
    "print(\"English LangEmbed:\")\n",
    "for i in range(10):\n",
    "    print(i, \":\", output_lang.index2word[i])\n",
    "print(\"...\")\n",
    "\n",
    "print(\"French LangEmbed:\")\n",
    "for i in range(10):\n",
    "    print(i, \":\", input_lang.index2word[i])\n",
    "print(\"...\")\n",
    "\n",
    "print(random.choice(pairs))\n",
    "use_cuda = torch.cuda.is_available()"
   ],
   "metadata": {
    "collapsed": false,
    "pycharm": {
     "name": "#%%\n"
    }
   }
  },
  {
   "cell_type": "markdown",
   "source": [
    "### 2词嵌入及编码器"
   ],
   "metadata": {
    "collapsed": false,
    "pycharm": {
     "name": "#%% md\n"
    }
   }
  },
  {
   "cell_type": "code",
   "execution_count": 9,
   "outputs": [],
   "source": [
    "class EncoderRNN(nn.Module):\n",
    "    def __init__(self, input_size, hidden_size):\n",
    "        super(EncoderRNN, self).__init__()\n",
    "        self.hidden_size = hidden_size\n",
    "\n",
    "        self.embedding = nn.Embedding(input_size, hidden_size)\n",
    "        self.gru = nn.GRUCell(hidden_size, hidden_size)  # 这里的hidden_size即是embedding之后的每个词的向量维数，也中间隐藏节点个数，256维\n",
    "\n",
    "    def forward(self, input, hidden):  # 这种设计，实际上是一次输入一个单词，并输出结果及隐藏向量，与传统的前向传播几乎别无二致。其中并没有采用一个序列进行输入的写法。\n",
    "\n",
    "        output = self.embedding(input)\n",
    "        hidden = self.gru(output, hidden)\n",
    "        return hidden\n",
    "\n",
    "    def initHidden(self):\n",
    "        result = torch.zeros(1, self.hidden_size)  # 由于隐藏向量也是（layer*direction，batch，hidden_size）格式，因此要写成（1，256）\n",
    "        if use_cuda:\n",
    "            return result.cuda()\n",
    "        else:\n",
    "            return result"
   ],
   "metadata": {
    "collapsed": false,
    "pycharm": {
     "name": "#%%\n"
    }
   }
  },
  {
   "cell_type": "markdown",
   "source": [
    "### 3解码器"
   ],
   "metadata": {
    "collapsed": false,
    "pycharm": {
     "name": "#%% md\n"
    }
   }
  },
  {
   "cell_type": "code",
   "execution_count": 10,
   "outputs": [],
   "source": [
    "class DecoderRNN(nn.Module):\n",
    "    def __init__(self, hidden_size, output_size):\n",
    "        super(DecoderRNN, self).__init__()\n",
    "        self.hidden_size = hidden_size\n",
    "\n",
    "        self.embedding = nn.Embedding(output_size, hidden_size)\n",
    "        self.gru = nn.GRUCell(hidden_size, hidden_size)\n",
    "        self.out = nn.Linear(hidden_size, output_size)\n",
    "\n",
    "    def forward(self, input, hidden):\n",
    "\n",
    "        output = self.embedding(input)  # （1，256）的数据作为输入\n",
    "        output = F.relu(output)\n",
    "        hidden = self.gru(output, hidden)\n",
    "        output = F.log_softmax(self.out(hidden))\n",
    "        return output, hidden\n",
    "\n",
    "    def initHidden(self):\n",
    "        result = torch.zeros(1, self.hidden_size)\n",
    "        if use_cuda:\n",
    "            return result.cuda()\n",
    "        else:\n",
    "            return result"
   ],
   "metadata": {
    "collapsed": false,
    "pycharm": {
     "name": "#%%\n"
    }
   }
  },
  {
   "cell_type": "markdown",
   "source": [
    "### 4训练函数"
   ],
   "metadata": {
    "collapsed": false,
    "pycharm": {
     "name": "#%% md\n"
    }
   }
  },
  {
   "cell_type": "code",
   "execution_count": 11,
   "outputs": [],
   "source": [
    "def sentence2index(lang, sentence):\n",
    "    return [lang.word2index[word] for word in sentence.split(' ')]\n",
    "\n",
    "\n",
    "def indexesFromSentence(lang, sentence):\n",
    "    indexes = sentence2index(lang, sentence)\n",
    "    indexes.append(EOS_token)\n",
    "    result = torch.LongTensor(indexes).view(-1, 1)\n",
    "    if use_cuda:\n",
    "        return result.cuda()\n",
    "    else:\n",
    "        return result\n",
    "\n",
    "\n",
    "def indexesFromPair(pair):\n",
    "    inputs = indexesFromSentence(input_lang, pair[1])\n",
    "    targets = indexesFromSentence(output_lang, pair[0])\n",
    "    return (inputs, targets)"
   ],
   "metadata": {
    "collapsed": false,
    "pycharm": {
     "name": "#%%\n"
    }
   }
  },
  {
   "cell_type": "code",
   "execution_count": 12,
   "outputs": [],
   "source": [
    "def trainIters(encoder, decoder, n_iters, print_every=500, learning_rate=0.01):\n",
    "    print_loss_total = 0\n",
    "\n",
    "    encoder_optimizer = optim.SGD(encoder.parameters(), lr=learning_rate)\n",
    "    decoder_optimizer = optim.SGD(decoder.parameters(), lr=learning_rate)\n",
    "\n",
    "    criterion = nn.NLLLoss()\n",
    "\n",
    "    for iter in range(1, n_iters + 1):\n",
    "        random.shuffle(pairs)\n",
    "        training_pairs = [indexesFromPair(pair) for pair in pairs]\n",
    "\n",
    "        for idx, training_pair in enumerate(training_pairs):\n",
    "            input_index = training_pair[0]\n",
    "            target_index = training_pair[1]\n",
    "\n",
    "            loss = train(input_index, target_index, encoder,\n",
    "                         decoder, encoder_optimizer, decoder_optimizer, criterion)\n",
    "\n",
    "            print_loss_total += loss\n",
    "\n",
    "            if idx % print_every == 0:\n",
    "                print_loss_avg = print_loss_total / print_every\n",
    "                print_loss_total = 0\n",
    "                print('iteration:%s, idx:%d, average loss:%.4f' % (iter, idx, print_loss_avg))"
   ],
   "metadata": {
    "collapsed": false,
    "pycharm": {
     "name": "#%%\n"
    }
   }
  },
  {
   "cell_type": "code",
   "execution_count": 13,
   "outputs": [],
   "source": [
    "teacher_forcing_ratio = 0.5"
   ],
   "metadata": {
    "collapsed": false,
    "pycharm": {
     "name": "#%%\n"
    }
   }
  },
  {
   "cell_type": "code",
   "execution_count": 14,
   "outputs": [],
   "source": [
    "def train(inputs, targets, encoder, decoder, encoder_optimizer, decoder_optimizer, criterion, max_length=MAX_LENGTH):\n",
    "    encoder_hidden = encoder.initHidden()\n",
    "\n",
    "    encoder_optimizer.zero_grad()\n",
    "    decoder_optimizer.zero_grad()\n",
    "\n",
    "    input_length = inputs.size()[0]\n",
    "    target_length = targets.size()[0]\n",
    "\n",
    "    encoder_outputs = torch.zeros(max_length, encoder.hidden_size)  # 前面定义了max_length=10,即不超过十个单词？\n",
    "    encoder_outputs = encoder_outputs.cuda() if use_cuda else encoder_outputs  # 如果不是基于attention机制，这个变量将不需要\n",
    "\n",
    "    loss = 0\n",
    "\n",
    "    for ei in range(input_length):\n",
    "        encoder_hidden = encoder(inputs[ei], encoder_hidden)\n",
    "\n",
    "    decoder_input = torch.LongTensor([SOS_token])\n",
    "\n",
    "    decoder_input = decoder_input.cuda() if use_cuda else decoder_input\n",
    "\n",
    "    decoder_hidden = encoder_hidden\n",
    "\n",
    "    use_teacher_forcing = True if random.random() < teacher_forcing_ratio else False\n",
    "\n",
    "    if use_teacher_forcing:\n",
    "\n",
    "        for di in range(target_length):\n",
    "            decoder_output, decoder_hidden = decoder(decoder_input, decoder_hidden)\n",
    "\n",
    "            loss += criterion(decoder_output, targets[di])\n",
    "\n",
    "            decoder_input = targets[di]  # Teacher forcing\n",
    "\n",
    "    else:\n",
    "        # 没有 Teacher Forcing\n",
    "        for di in range(target_length):\n",
    "\n",
    "            decoder_output, decoder_hidden = decoder(decoder_input, decoder_hidden)\n",
    "            topv, topi = decoder_output.data.topk(1)  # 返回最大的（数据，序号）\n",
    "            ni = topi[0][0]\n",
    "\n",
    "            decoder_input = torch.LongTensor([ni])\n",
    "            decoder_input = decoder_input.cuda() if use_cuda else decoder_input\n",
    "\n",
    "            loss += criterion(decoder_output, targets[di])\n",
    "            if ni == EOS_token:\n",
    "                break\n",
    "\n",
    "    loss.backward()\n",
    "\n",
    "    encoder_optimizer.step()\n",
    "    decoder_optimizer.step()\n",
    "\n",
    "    return loss.item() / target_length  # 算出平均每一个词的错误是多少"
   ],
   "metadata": {
    "collapsed": false,
    "pycharm": {
     "name": "#%%\n"
    }
   }
  },
  {
   "cell_type": "code",
   "execution_count": 15,
   "outputs": [],
   "source": [
    "hidden_size = 256\n",
    "encoder = EncoderRNN(input_lang.n_words, hidden_size)\n",
    "decoder = DecoderRNN(hidden_size, output_lang.n_words)\n",
    "\n",
    "if use_cuda:\n",
    "    encoder = encoder.cuda()\n",
    "    decoder = decoder.cuda()"
   ],
   "metadata": {
    "collapsed": false,
    "pycharm": {
     "name": "#%%\n"
    }
   }
  },
  {
   "cell_type": "code",
   "execution_count": 16,
   "outputs": [
    {
     "name": "stderr",
     "output_type": "stream",
     "text": [
      "/var/folders/xw/r4jf50z15dv7m1bfg3f55mcw0000gn/T/ipykernel_7306/2008811875.py:15: UserWarning: Implicit dimension choice for log_softmax has been deprecated. Change the call to include dim=X as an argument.\n",
      "  output = F.log_softmax(self.out(hidden))\n"
     ]
    },
    {
     "name": "stdout",
     "output_type": "stream",
     "text": [
      "iteration:1, idx:0, average loss:0.0158\n",
      "iteration:1, idx:500, average loss:3.6696\n",
      "iteration:1, idx:1000, average loss:3.2919\n",
      "iteration:1, idx:1500, average loss:3.1537\n",
      "iteration:1, idx:2000, average loss:3.0638\n",
      "iteration:1, idx:2500, average loss:2.8912\n",
      "iteration:1, idx:3000, average loss:2.8218\n",
      "iteration:1, idx:3500, average loss:2.8063\n",
      "iteration:1, idx:4000, average loss:2.7687\n",
      "iteration:1, idx:4500, average loss:2.6939\n",
      "iteration:1, idx:5000, average loss:2.5891\n",
      "iteration:1, idx:5500, average loss:2.5868\n",
      "iteration:1, idx:6000, average loss:2.5942\n",
      "iteration:1, idx:6500, average loss:2.5345\n",
      "iteration:1, idx:7000, average loss:2.5512\n",
      "iteration:1, idx:7500, average loss:2.4304\n",
      "iteration:1, idx:8000, average loss:2.4713\n",
      "iteration:1, idx:8500, average loss:2.3869\n",
      "iteration:1, idx:9000, average loss:2.4102\n",
      "iteration:1, idx:9500, average loss:2.3844\n",
      "iteration:1, idx:10000, average loss:2.4022\n",
      "iteration:1, idx:10500, average loss:2.3097\n",
      "iteration:2, idx:0, average loss:1.6294\n",
      "iteration:2, idx:500, average loss:2.1585\n",
      "iteration:2, idx:1000, average loss:2.1874\n",
      "iteration:2, idx:1500, average loss:2.0674\n",
      "iteration:2, idx:2000, average loss:2.0388\n",
      "iteration:2, idx:2500, average loss:2.1246\n",
      "iteration:2, idx:3000, average loss:1.9637\n",
      "iteration:2, idx:3500, average loss:2.1170\n",
      "iteration:2, idx:4000, average loss:1.9983\n",
      "iteration:2, idx:4500, average loss:2.0145\n",
      "iteration:2, idx:5000, average loss:1.9808\n",
      "iteration:2, idx:5500, average loss:2.0150\n",
      "iteration:2, idx:6000, average loss:1.9378\n",
      "iteration:2, idx:6500, average loss:2.0186\n",
      "iteration:2, idx:7000, average loss:2.0613\n",
      "iteration:2, idx:7500, average loss:1.9502\n",
      "iteration:2, idx:8000, average loss:1.9471\n",
      "iteration:2, idx:8500, average loss:1.8828\n",
      "iteration:2, idx:9000, average loss:1.9432\n",
      "iteration:2, idx:9500, average loss:1.8671\n",
      "iteration:2, idx:10000, average loss:1.8173\n",
      "iteration:2, idx:10500, average loss:1.8726\n",
      "iteration:3, idx:0, average loss:1.2838\n",
      "iteration:3, idx:500, average loss:1.6030\n",
      "iteration:3, idx:1000, average loss:1.5330\n",
      "iteration:3, idx:1500, average loss:1.6956\n",
      "iteration:3, idx:2000, average loss:1.6487\n",
      "iteration:3, idx:2500, average loss:1.5287\n",
      "iteration:3, idx:3000, average loss:1.6262\n",
      "iteration:3, idx:3500, average loss:1.6111\n",
      "iteration:3, idx:4000, average loss:1.5670\n",
      "iteration:3, idx:4500, average loss:1.5259\n",
      "iteration:3, idx:5000, average loss:1.6466\n",
      "iteration:3, idx:5500, average loss:1.6369\n",
      "iteration:3, idx:6000, average loss:1.5340\n",
      "iteration:3, idx:6500, average loss:1.6232\n",
      "iteration:3, idx:7000, average loss:1.5273\n",
      "iteration:3, idx:7500, average loss:1.5537\n",
      "iteration:3, idx:8000, average loss:1.5758\n",
      "iteration:3, idx:8500, average loss:1.5081\n",
      "iteration:3, idx:9000, average loss:1.5928\n",
      "iteration:3, idx:9500, average loss:1.5440\n",
      "iteration:3, idx:10000, average loss:1.5999\n",
      "iteration:3, idx:10500, average loss:1.5458\n",
      "iteration:4, idx:0, average loss:1.0515\n",
      "iteration:4, idx:500, average loss:1.2246\n",
      "iteration:4, idx:1000, average loss:1.2882\n",
      "iteration:4, idx:1500, average loss:1.2585\n",
      "iteration:4, idx:2000, average loss:1.2436\n",
      "iteration:4, idx:2500, average loss:1.3207\n",
      "iteration:4, idx:3000, average loss:1.2129\n",
      "iteration:4, idx:3500, average loss:1.2057\n",
      "iteration:4, idx:4000, average loss:1.2891\n",
      "iteration:4, idx:4500, average loss:1.3070\n",
      "iteration:4, idx:5000, average loss:1.2183\n",
      "iteration:4, idx:5500, average loss:1.3106\n",
      "iteration:4, idx:6000, average loss:1.2885\n",
      "iteration:4, idx:6500, average loss:1.2485\n",
      "iteration:4, idx:7000, average loss:1.2651\n",
      "iteration:4, idx:7500, average loss:1.1742\n",
      "iteration:4, idx:8000, average loss:1.2697\n",
      "iteration:4, idx:8500, average loss:1.3108\n",
      "iteration:4, idx:9000, average loss:1.2889\n",
      "iteration:4, idx:9500, average loss:1.2181\n",
      "iteration:4, idx:10000, average loss:1.2123\n",
      "iteration:4, idx:10500, average loss:1.2350\n",
      "iteration:5, idx:0, average loss:0.8851\n",
      "iteration:5, idx:500, average loss:0.9661\n",
      "iteration:5, idx:1000, average loss:0.9482\n",
      "iteration:5, idx:1500, average loss:0.9916\n",
      "iteration:5, idx:2000, average loss:1.0138\n",
      "iteration:5, idx:2500, average loss:1.0051\n",
      "iteration:5, idx:3000, average loss:1.0212\n",
      "iteration:5, idx:3500, average loss:0.9731\n",
      "iteration:5, idx:4000, average loss:1.0251\n",
      "iteration:5, idx:4500, average loss:0.9562\n",
      "iteration:5, idx:5000, average loss:0.9576\n",
      "iteration:5, idx:5500, average loss:0.9906\n",
      "iteration:5, idx:6000, average loss:1.0038\n",
      "iteration:5, idx:6500, average loss:1.0849\n",
      "iteration:5, idx:7000, average loss:0.9741\n",
      "iteration:5, idx:7500, average loss:0.9536\n",
      "iteration:5, idx:8000, average loss:0.9965\n",
      "iteration:5, idx:8500, average loss:1.0091\n",
      "iteration:5, idx:9000, average loss:1.0487\n",
      "iteration:5, idx:9500, average loss:0.9938\n",
      "iteration:5, idx:10000, average loss:1.0487\n",
      "iteration:5, idx:10500, average loss:1.0349\n",
      "iteration:6, idx:0, average loss:0.7916\n",
      "iteration:6, idx:500, average loss:0.7367\n",
      "iteration:6, idx:1000, average loss:0.7364\n",
      "iteration:6, idx:1500, average loss:0.7010\n",
      "iteration:6, idx:2000, average loss:0.7365\n",
      "iteration:6, idx:2500, average loss:0.8100\n",
      "iteration:6, idx:3000, average loss:0.7807\n",
      "iteration:6, idx:3500, average loss:0.7612\n",
      "iteration:6, idx:4000, average loss:0.8841\n",
      "iteration:6, idx:4500, average loss:0.7685\n",
      "iteration:6, idx:5000, average loss:0.7914\n",
      "iteration:6, idx:5500, average loss:0.8434\n",
      "iteration:6, idx:6000, average loss:0.7396\n",
      "iteration:6, idx:6500, average loss:0.7589\n",
      "iteration:6, idx:7000, average loss:0.8586\n",
      "iteration:6, idx:7500, average loss:0.7969\n",
      "iteration:6, idx:8000, average loss:0.8360\n",
      "iteration:6, idx:8500, average loss:0.8101\n",
      "iteration:6, idx:9000, average loss:0.8369\n",
      "iteration:6, idx:9500, average loss:0.8234\n",
      "iteration:6, idx:10000, average loss:0.7887\n",
      "iteration:6, idx:10500, average loss:0.8668\n",
      "iteration:7, idx:0, average loss:0.6169\n",
      "iteration:7, idx:500, average loss:0.6111\n",
      "iteration:7, idx:1000, average loss:0.6223\n",
      "iteration:7, idx:1500, average loss:0.5854\n",
      "iteration:7, idx:2000, average loss:0.6228\n",
      "iteration:7, idx:2500, average loss:0.5872\n",
      "iteration:7, idx:3000, average loss:0.5916\n",
      "iteration:7, idx:3500, average loss:0.5908\n",
      "iteration:7, idx:4000, average loss:0.5954\n",
      "iteration:7, idx:4500, average loss:0.6117\n",
      "iteration:7, idx:5000, average loss:0.5637\n",
      "iteration:7, idx:5500, average loss:0.6011\n",
      "iteration:7, idx:6000, average loss:0.6609\n",
      "iteration:7, idx:6500, average loss:0.6525\n",
      "iteration:7, idx:7000, average loss:0.5801\n",
      "iteration:7, idx:7500, average loss:0.6139\n",
      "iteration:7, idx:8000, average loss:0.6127\n",
      "iteration:7, idx:8500, average loss:0.6535\n",
      "iteration:7, idx:9000, average loss:0.6752\n",
      "iteration:7, idx:9500, average loss:0.6305\n",
      "iteration:7, idx:10000, average loss:0.6521\n",
      "iteration:7, idx:10500, average loss:0.6655\n",
      "iteration:8, idx:0, average loss:0.5028\n",
      "iteration:8, idx:500, average loss:0.4469\n",
      "iteration:8, idx:1000, average loss:0.4587\n",
      "iteration:8, idx:1500, average loss:0.4193\n",
      "iteration:8, idx:2000, average loss:0.4573\n",
      "iteration:8, idx:2500, average loss:0.4283\n",
      "iteration:8, idx:3000, average loss:0.4360\n",
      "iteration:8, idx:3500, average loss:0.4378\n",
      "iteration:8, idx:4000, average loss:0.4645\n",
      "iteration:8, idx:4500, average loss:0.5260\n",
      "iteration:8, idx:5000, average loss:0.4942\n",
      "iteration:8, idx:5500, average loss:0.5248\n",
      "iteration:8, idx:6000, average loss:0.5043\n",
      "iteration:8, idx:6500, average loss:0.4325\n",
      "iteration:8, idx:7000, average loss:0.4975\n",
      "iteration:8, idx:7500, average loss:0.5281\n",
      "iteration:8, idx:8000, average loss:0.5509\n",
      "iteration:8, idx:8500, average loss:0.5262\n",
      "iteration:8, idx:9000, average loss:0.4947\n",
      "iteration:8, idx:9500, average loss:0.5085\n",
      "iteration:8, idx:10000, average loss:0.5437\n",
      "iteration:8, idx:10500, average loss:0.5310\n",
      "iteration:9, idx:0, average loss:0.3630\n",
      "iteration:9, idx:500, average loss:0.3103\n",
      "iteration:9, idx:1000, average loss:0.3133\n",
      "iteration:9, idx:1500, average loss:0.3568\n",
      "iteration:9, idx:2000, average loss:0.3491\n",
      "iteration:9, idx:2500, average loss:0.3711\n",
      "iteration:9, idx:3000, average loss:0.3759\n",
      "iteration:9, idx:3500, average loss:0.3950\n",
      "iteration:9, idx:4000, average loss:0.3552\n",
      "iteration:9, idx:4500, average loss:0.3983\n",
      "iteration:9, idx:5000, average loss:0.3906\n",
      "iteration:9, idx:5500, average loss:0.3831\n",
      "iteration:9, idx:6000, average loss:0.3650\n",
      "iteration:9, idx:6500, average loss:0.4024\n",
      "iteration:9, idx:7000, average loss:0.4233\n",
      "iteration:9, idx:7500, average loss:0.3941\n",
      "iteration:9, idx:8000, average loss:0.4105\n",
      "iteration:9, idx:8500, average loss:0.3805\n",
      "iteration:9, idx:9000, average loss:0.3870\n",
      "iteration:9, idx:9500, average loss:0.3829\n",
      "iteration:9, idx:10000, average loss:0.3934\n",
      "iteration:9, idx:10500, average loss:0.3744\n",
      "iteration:10, idx:0, average loss:0.3135\n",
      "iteration:10, idx:500, average loss:0.2275\n",
      "iteration:10, idx:1000, average loss:0.2453\n",
      "iteration:10, idx:1500, average loss:0.2785\n",
      "iteration:10, idx:2000, average loss:0.2891\n",
      "iteration:10, idx:2500, average loss:0.2406\n",
      "iteration:10, idx:3000, average loss:0.2467\n",
      "iteration:10, idx:3500, average loss:0.2886\n",
      "iteration:10, idx:4000, average loss:0.2858\n",
      "iteration:10, idx:4500, average loss:0.3313\n",
      "iteration:10, idx:5000, average loss:0.2781\n",
      "iteration:10, idx:5500, average loss:0.2863\n",
      "iteration:10, idx:6000, average loss:0.2861\n",
      "iteration:10, idx:6500, average loss:0.2721\n",
      "iteration:10, idx:7000, average loss:0.2780\n",
      "iteration:10, idx:7500, average loss:0.2712\n",
      "iteration:10, idx:8000, average loss:0.2900\n",
      "iteration:10, idx:8500, average loss:0.2675\n",
      "iteration:10, idx:9000, average loss:0.2962\n",
      "iteration:10, idx:9500, average loss:0.3194\n",
      "iteration:10, idx:10000, average loss:0.2921\n",
      "iteration:10, idx:10500, average loss:0.3027\n"
     ]
    }
   ],
   "source": [
    "trainIters(encoder, decoder, 10)"
   ],
   "metadata": {
    "collapsed": false,
    "pycharm": {
     "name": "#%%\n"
    }
   }
  }
 ],
 "metadata": {
  "kernelspec": {
   "display_name": "Python 3",
   "language": "python",
   "name": "python3"
  },
  "language_info": {
   "codemirror_mode": {
    "name": "ipython",
    "version": 2
   },
   "file_extension": ".py",
   "mimetype": "text/x-python",
   "name": "python",
   "nbconvert_exporter": "python",
   "pygments_lexer": "ipython2",
   "version": "2.7.6"
  }
 },
 "nbformat": 4,
 "nbformat_minor": 0
}