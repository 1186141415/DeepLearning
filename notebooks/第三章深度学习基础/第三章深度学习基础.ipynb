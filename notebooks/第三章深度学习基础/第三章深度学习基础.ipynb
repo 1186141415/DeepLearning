{
 "cells": [
  {
   "cell_type": "markdown",
   "source": [
    "## 3.1机器学习\n",
    "### 1机器学习简史\n",
    "机器学习的发展如图，其中发展到现在机器学习分成了两大阵营，一个是以神经网络为核心主张联结主义，一个以支持向量机为核心主张符号逻辑方法：\n",
    "<img alt=\"发展历史\" height=\"800\" src=\"3-2.png\" width=\"1600\"/>"
   ],
   "metadata": {
    "collapsed": false,
    "pycharm": {
     "name": "#%% md\n"
    }
   }
  },
  {
   "cell_type": "markdown",
   "source": [
    "### 2机器学习模型\n",
    "机器学习本质是让机器像人一样去发现世界的本质和规律，不过机器的认知过程是来自与数据集合，而人的认知过程是来自于对于客观世界的观察。"
   ],
   "metadata": {
    "collapsed": false,
    "pycharm": {
     "name": "#%% md\n"
    }
   }
  },
  {
   "cell_type": "markdown",
   "source": [
    "## 3.2线性回归\n",
    "### 1线性模型\n",
    "使用线性回归(Linear Regression)开始入门，假设我们具有样本数据集如下：\n",
    "<img alt=\"发展历史\" height=\"800\" src=\"t3-1.png\" width=\"1600\"/>\n"
   ],
   "metadata": {
    "collapsed": false,
    "pycharm": {
     "name": "#%% md\n"
    }
   }
  },
  {
   "cell_type": "code",
   "execution_count": 3,
   "outputs": [],
   "source": [
    "import torch\n",
    "import matplotlib.pyplot as plt"
   ],
   "metadata": {
    "collapsed": false,
    "pycharm": {
     "name": "#%%\n"
    }
   }
  },
  {
   "cell_type": "code",
   "execution_count": 4,
   "outputs": [
    {
     "data": {
      "text/plain": "<Figure size 432x288 with 1 Axes>",
      "image/png": "[encoded data removed]"
     },
     "metadata": {
      "needs_background": "light"
     },
     "output_type": "display_data"
    }
   ],
   "source": [
    "x = torch.Tensor([1.4, 5, 11, 16, 21])\n",
    "y = torch.Tensor([14.4, 29.6, 62, 85.5, 113.4])\n",
    "\n",
    "plt.scatter(x.numpy(),y.numpy())\n",
    "plt.show()"
   ],
   "metadata": {
    "collapsed": false,
    "pycharm": {
     "name": "#%%\n"
    }
   }
  },
  {
   "cell_type": "markdown",
   "source": [
    "### 2目标函数\n",
    "我们的目标是寻找一个线性函数来拟合这个散点图：\n",
    "$$\n",
    "\\hat y=w_1x+w_0\n",
    "$$\n",
    "<img alt=\"参数表\" height=\"800\" src=\"t3-2.jpeg\" width=\"1600\"/>\n",
    "\n",
    "为了避免对参数的调整使得预测结果出现离散的变化，同时考虑面临的是回归问题，这里使用均方误差，激活函数是恒等函数，所以不需要特殊说明了。均方误差的公式如下\n",
    "$$\n",
    "L(w_1,w_2)=\\sum_{i=1}^5({\\hat y}^{(i)}-y^{(i)})^2=\\sum_{i=1}^5(w_1x^{(i)}+w_0-y^{(i)})^2\n",
    "$$"
   ],
   "metadata": {
    "collapsed": false,
    "pycharm": {
     "name": "#%% md\n"
    }
   }
  },
  {
   "cell_type": "markdown",
   "source": [
    "### 3优化\n",
    "为了让预测值和真实值差距变小，就是让损失函数的值变小，我们需要不断调整$w$参数的值,这个过程称为优化，这里先使用最简单的梯度下降他的工作原理就是在损失函数上的一点寻找梯度下降最大的方向，然后进行梯度更新：\n",
    "<img alt=\"梯度下降\" height=\"800\" src=\"3-5.jpeg\" width=\"1600\"/>\n",
    "\n",
    "$$\n",
    "w_1^{t+1}=w_1^t-{\\partial L\\over \\partial w_1^t }\\delta\\\\\n",
    "w_0^{t+1}=w_0^t-{\\partial L\\over \\partial w_0^t }\\delta\n",
    "$$\n",
    "\n",
    "其中$\\delta$称为学习率，最后我们来更新向量\n",
    "$$\n",
    "\\vec w_1^{t+1}=\\vec w^t - \\nabla L(\\vec w^t)\\delta\n",
    "$$"
   ],
   "metadata": {
    "collapsed": false,
    "pycharm": {
     "name": "#%% md\n"
    }
   }
  },
  {
   "cell_type": "markdown",
   "source": [
    "### 4批学习\n",
    "我们可以把前面说的目标函数的形式写成向量的形式，这样我们就可以应用批量学习了：\n",
    "$$\n",
    "\\vec \\hat y =X \\vec w\n",
    "$$"
   ],
   "metadata": {
    "collapsed": false,
    "pycharm": {
     "name": "#%% md\n"
    }
   }
  },
  {
   "cell_type": "markdown",
   "source": [
    "### 5训练(学习)\n",
    "学习过程如下，流程图附后：\n",
    "1、先计算一个预测结果\n",
    "2、通过损失函数计算损失\n",
    "3、反向传播求梯度后更新参数\n",
    "4、回到1过程，直到完成迭代指定次数。\n",
    "<img alt=\"流程图\" height=\"800\" src=\"3-8.jpeg\" width=\"1600\"/>"
   ],
   "metadata": {
    "collapsed": false,
    "pycharm": {
     "name": "#%% md\n"
    }
   }
  },
  {
   "cell_type": "markdown",
   "source": [
    "### 6代码实践"
   ],
   "metadata": {
    "collapsed": false,
    "pycharm": {
     "name": "#%% md\n"
    }
   }
  },
  {
   "cell_type": "code",
   "execution_count": null,
   "outputs": [],
   "source": [],
   "metadata": {
    "collapsed": false,
    "pycharm": {
     "name": "#%%\n"
    }
   }
  }
 ],
 "metadata": {
  "kernelspec": {
   "display_name": "Python 3",
   "language": "python",
   "name": "python3"
  },
  "language_info": {
   "codemirror_mode": {
    "name": "ipython",
    "version": 2
   },
   "file_extension": ".py",
   "mimetype": "text/x-python",
   "name": "python",
   "nbconvert_exporter": "python",
   "pygments_lexer": "ipython2",
   "version": "2.7.6"
  }
 },
 "nbformat": 4,
 "nbformat_minor": 0
}