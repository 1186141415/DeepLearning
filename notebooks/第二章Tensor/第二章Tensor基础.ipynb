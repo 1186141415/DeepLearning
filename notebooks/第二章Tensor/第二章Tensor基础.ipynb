{
 "cells": [
  {
   "cell_type": "markdown",
   "source": [
    "## 2.1Tensor基础"
   ],
   "metadata": {
    "collapsed": false,
    "pycharm": {
     "name": "#%% md\n"
    }
   }
  },
  {
   "cell_type": "markdown",
   "source": [
    "### 1数学含义"
   ],
   "metadata": {
    "collapsed": false,
    "pycharm": {
     "name": "#%% md\n"
    }
   }
  },
  {
   "cell_type": "markdown",
   "source": [
    "tensor对于pytorch实际上是array对于numpy，这个实际上是多维运算工具，不过是比numpy增加了各式各样的运算方法和函数。"
   ],
   "metadata": {
    "collapsed": false,
    "pycharm": {
     "name": "#%% md\n"
    }
   }
  },
  {
   "cell_type": "markdown",
   "source": [
    "### 2基本创建方法"
   ],
   "metadata": {
    "collapsed": false,
    "pycharm": {
     "name": "#%% md\n"
    }
   }
  },
  {
   "cell_type": "code",
   "execution_count": 1,
   "outputs": [],
   "source": [
    "import torch"
   ],
   "metadata": {
    "collapsed": false,
    "pycharm": {
     "name": "#%%\n"
    }
   }
  },
  {
   "cell_type": "code",
   "execution_count": 2,
   "outputs": [
    {
     "data": {
      "text/plain": "tensor([[ 0.0000e+00, -4.6566e-10, -2.7624e-20, -1.5849e+29],\n        [ 1.0000e+00,  2.0000e+00,  0.0000e+00,  0.0000e+00]])"
     },
     "execution_count": 2,
     "metadata": {},
     "output_type": "execute_result"
    }
   ],
   "source": [
    "x = torch.Tensor(2, 4)  #创建张量\n",
    "x"
   ],
   "metadata": {
    "collapsed": false,
    "pycharm": {
     "name": "#%%\n"
    }
   }
  },
  {
   "cell_type": "code",
   "execution_count": 3,
   "outputs": [
    {
     "name": "stdout",
     "output_type": "stream",
     "text": [
      "torch.FloatTensor\n",
      "torch.float32\n"
     ]
    }
   ],
   "source": [
    "print(x.type())\n",
    "print(x.dtype)"
   ],
   "metadata": {
    "collapsed": false,
    "pycharm": {
     "name": "#%%\n"
    }
   }
  },
  {
   "cell_type": "markdown",
   "source": [
    "tensor一共包含八种数据类型：\n",
    "<img height=\"800\" src=\"2-1.jpeg\" width=\"1600\"/>"
   ],
   "metadata": {
    "collapsed": false,
    "pycharm": {
     "name": "#%% md\n"
    }
   }
  },
  {
   "cell_type": "code",
   "execution_count": 4,
   "outputs": [
    {
     "data": {
      "text/plain": "tensor([[[ 0.0000e+00, 1.2599e-321,  0.0000e+00,  0.0000e+00],\n         [ 0.0000e+00,  0.0000e+00, 1.2599e-321,  0.0000e+00],\n         [ 0.0000e+00,  0.0000e+00,  0.0000e+00, 1.2599e-321]],\n\n        [[ 0.0000e+00,  0.0000e+00,  0.0000e+00,  0.0000e+00],\n         [1.2599e-321,  0.0000e+00,  0.0000e+00,  0.0000e+00],\n         [ 0.0000e+00,  0.0000e+00,  0.0000e+00,  0.0000e+00]]],\n       dtype=torch.float64)"
     },
     "execution_count": 4,
     "metadata": {},
     "output_type": "execute_result"
    }
   ],
   "source": [
    "y = torch.DoubleTensor(2, 3, 4)  #两个3x4矩阵\n",
    "y"
   ],
   "metadata": {
    "collapsed": false,
    "pycharm": {
     "name": "#%%\n"
    }
   }
  },
  {
   "cell_type": "code",
   "execution_count": 5,
   "outputs": [
    {
     "data": {
      "text/plain": "tensor([[1., 2., 3.],\n        [4., 5., 6.],\n        [7., 8., 9.]])"
     },
     "execution_count": 5,
     "metadata": {},
     "output_type": "execute_result"
    }
   ],
   "source": [
    "#使用python原生列表进行初始化\n",
    "list = [[1, 2, 3], [4, 5, 6], [7, 8, 9]]\n",
    "torch.Tensor(list)"
   ],
   "metadata": {
    "collapsed": false,
    "pycharm": {
     "name": "#%%\n"
    }
   }
  },
  {
   "cell_type": "code",
   "execution_count": 6,
   "outputs": [
    {
     "data": {
      "text/plain": "tensor(5.)"
     },
     "execution_count": 6,
     "metadata": {},
     "output_type": "execute_result"
    }
   ],
   "source": [
    "'''\n",
    "Tensor和tensor大小写不一样\n",
    "'''\n",
    "#使用python索引方式获取Tensor中的元素值\n",
    "x = torch.Tensor([[2, 4, 5], [7, 6, 3]])\n",
    "x[0][2]"
   ],
   "metadata": {
    "collapsed": false,
    "pycharm": {
     "name": "#%%\n"
    }
   }
  },
  {
   "cell_type": "code",
   "execution_count": 7,
   "outputs": [
    {
     "data": {
      "text/plain": "tensor([[2., 4., 9.],\n        [7., 6., 3.]])"
     },
     "execution_count": 7,
     "metadata": {},
     "output_type": "execute_result"
    }
   ],
   "source": [
    "#使用索引修改Tensor中的元素\n",
    "x[0][2] = 9\n",
    "x"
   ],
   "metadata": {
    "collapsed": false,
    "pycharm": {
     "name": "#%%\n"
    }
   }
  },
  {
   "cell_type": "markdown",
   "source": [
    "### 3快速创建方法"
   ],
   "metadata": {
    "collapsed": false,
    "pycharm": {
     "name": "#%% md\n"
    }
   }
  },
  {
   "cell_type": "code",
   "execution_count": 8,
   "outputs": [
    {
     "data": {
      "text/plain": "tensor([[0., 0., 0., 0.],\n        [0., 0., 0., 0.]])"
     },
     "execution_count": 8,
     "metadata": {},
     "output_type": "execute_result"
    }
   ],
   "source": [
    "torch.zeros(2, 4)"
   ],
   "metadata": {
    "collapsed": false,
    "pycharm": {
     "name": "#%%\n"
    }
   }
  },
  {
   "cell_type": "code",
   "execution_count": 9,
   "outputs": [
    {
     "data": {
      "text/plain": "tensor([[1., 0., 0.],\n        [0., 1., 0.],\n        [0., 0., 1.]])"
     },
     "execution_count": 9,
     "metadata": {},
     "output_type": "execute_result"
    }
   ],
   "source": [
    "torch.eye(3)"
   ],
   "metadata": {
    "collapsed": false,
    "pycharm": {
     "name": "#%%\n"
    }
   }
  },
  {
   "cell_type": "code",
   "execution_count": 10,
   "outputs": [
    {
     "data": {
      "text/plain": "tensor([[1., 1., 1., 1.],\n        [1., 1., 1., 1.]])"
     },
     "execution_count": 10,
     "metadata": {},
     "output_type": "execute_result"
    }
   ],
   "source": [
    "torch.ones(2, 4)"
   ],
   "metadata": {
    "collapsed": false,
    "pycharm": {
     "name": "#%%\n"
    }
   }
  },
  {
   "cell_type": "code",
   "execution_count": 11,
   "outputs": [
    {
     "data": {
      "text/plain": "tensor([[0.2831, 0.1272, 0.5737, 0.9028],\n        [0.2333, 0.2118, 0.2401, 0.1143]])"
     },
     "execution_count": 11,
     "metadata": {},
     "output_type": "execute_result"
    }
   ],
   "source": [
    "torch.rand(2, 4)  #创建[0,1)区间的随机数"
   ],
   "metadata": {
    "collapsed": false,
    "pycharm": {
     "name": "#%%\n"
    }
   }
  },
  {
   "cell_type": "code",
   "execution_count": 12,
   "outputs": [
    {
     "name": "stdout",
     "output_type": "stream",
     "text": [
      "tensor([1, 2, 3])\n",
      "tensor([1.0000, 1.5000, 2.0000, 2.5000, 3.0000, 3.5000])\n"
     ]
    }
   ],
   "source": [
    "print(torch.arange(1, 4))\n",
    "print(torch.arange(1, 4, 0.5))"
   ],
   "metadata": {
    "collapsed": false,
    "pycharm": {
     "name": "#%%\n"
    }
   }
  },
  {
   "cell_type": "markdown",
   "source": [
    "还有其他创建方法：\n",
    "<img alt=\"创建方法\" height=\"800\" src=\"2-2.jpeg\" width=\"1600\"/>"
   ],
   "metadata": {
    "collapsed": false,
    "pycharm": {
     "name": "#%% md\n"
    }
   }
  },
  {
   "cell_type": "markdown",
   "source": [
    "### 4常用数学方法\n",
    "除了常见的加法，乘法和除法还有：\n",
    "<img alt=\"常用数学运算\" height=\"800\" src=\"2-3.png\" width=\"1600\"/>"
   ],
   "metadata": {
    "collapsed": false,
    "pycharm": {
     "name": "#%% md\n"
    }
   }
  },
  {
   "cell_type": "markdown",
   "source": [],
   "metadata": {
    "collapsed": false,
    "pycharm": {
     "name": "#%% md\n"
    }
   }
  },
  {
   "cell_type": "code",
   "execution_count": 13,
   "outputs": [
    {
     "name": "stdout",
     "output_type": "stream",
     "text": [
      "tensor([[1., 2., 3.],\n",
      "        [4., 5., 6.]])\n",
      "tensor([[1., 1., 1.],\n",
      "        [1., 1., 1.]])\n"
     ]
    }
   ],
   "source": [
    "a = torch.Tensor([[1, 2, 3], [4, 5, 6]])\n",
    "b = torch.ones(2, 3)\n",
    "print(a)\n",
    "print(b)"
   ],
   "metadata": {
    "collapsed": false,
    "pycharm": {
     "name": "#%%\n"
    }
   }
  },
  {
   "cell_type": "code",
   "execution_count": 14,
   "outputs": [
    {
     "name": "stdout",
     "output_type": "stream",
     "text": [
      "tensor([[2., 3., 4.],\n",
      "        [5., 6., 7.]])\n",
      "tensor([[2., 3., 4.],\n",
      "        [5., 6., 7.]])\n",
      "tensor([[2., 3., 4.],\n",
      "        [5., 6., 7.]])\n",
      "tensor([[2., 3., 4.],\n",
      "        [5., 6., 7.]])\n"
     ]
    }
   ],
   "source": [
    "print(b.add(a))  #b本身的值不变\n",
    "print(torch.add(a, b))\n",
    "print(b.add_(a))  #覆盖加法\n",
    "print(b)"
   ],
   "metadata": {
    "collapsed": false,
    "pycharm": {
     "name": "#%%\n"
    }
   }
  },
  {
   "cell_type": "code",
   "execution_count": 15,
   "outputs": [
    {
     "name": "stdout",
     "output_type": "stream",
     "text": [
      "tensor([0.9540, 0.1845, 0.0388])\n",
      "tensor([2.9540, 2.1845, 2.0388])\n",
      "tensor([2.9540, 2.1845, 2.0388])\n",
      "tensor([2.9540, 2.1845, 2.0388])\n"
     ]
    }
   ],
   "source": [
    "#广播\n",
    "a = torch.rand(3)\n",
    "print(a)\n",
    "\n",
    "print(a + 2)\n",
    "\n",
    "print(torch.add(a, 2))\n",
    "\n",
    "print(a.add(2))"
   ],
   "metadata": {
    "collapsed": false,
    "pycharm": {
     "name": "#%%\n"
    }
   }
  },
  {
   "cell_type": "code",
   "execution_count": 16,
   "outputs": [
    {
     "data": {
      "text/plain": "tensor([[5., 4., 3.],\n        [3., 2., 1.]])"
     },
     "execution_count": 16,
     "metadata": {},
     "output_type": "execute_result"
    }
   ],
   "source": [
    "#abs方法\n",
    "torch.abs(torch.Tensor([[-5, -4, -3], [-3, -2, -1]]))"
   ],
   "metadata": {
    "collapsed": false,
    "pycharm": {
     "name": "#%%\n"
    }
   }
  },
  {
   "cell_type": "code",
   "execution_count": 17,
   "outputs": [
    {
     "name": "stdout",
     "output_type": "stream",
     "text": [
      "tensor([0.2000, 1.5000, 3.4000])\n"
     ]
    },
    {
     "data": {
      "text/plain": "tensor([1., 2., 4.])"
     },
     "execution_count": 17,
     "metadata": {},
     "output_type": "execute_result"
    }
   ],
   "source": [
    "#ceil向上取整数\n",
    "a = torch.Tensor([0.2, 1.5, 3.4])\n",
    "print(a)\n",
    "torch.ceil(a)"
   ],
   "metadata": {
    "collapsed": false,
    "pycharm": {
     "name": "#%%\n"
    }
   }
  },
  {
   "cell_type": "code",
   "execution_count": 18,
   "outputs": [
    {
     "data": {
      "text/plain": "tensor([ 2.7183,  7.3891, 20.0855])"
     },
     "execution_count": 18,
     "metadata": {},
     "output_type": "execute_result"
    }
   ],
   "source": [
    "#exp取指数\n",
    "torch.exp(torch.Tensor([1, 2, 3]))"
   ],
   "metadata": {
    "collapsed": false,
    "pycharm": {
     "name": "#%%\n"
    }
   }
  },
  {
   "cell_type": "code",
   "execution_count": 19,
   "outputs": [
    {
     "data": {
      "text/plain": "tensor(3.)"
     },
     "execution_count": 19,
     "metadata": {},
     "output_type": "execute_result"
    }
   ],
   "source": [
    "torch.max(torch.Tensor([1, 2, 3]))"
   ],
   "metadata": {
    "collapsed": false,
    "pycharm": {
     "name": "#%%\n"
    }
   }
  },
  {
   "cell_type": "markdown",
   "source": [
    "### 5线性代数运算"
   ],
   "metadata": {
    "collapsed": false,
    "pycharm": {
     "name": "#%% md\n"
    }
   }
  },
  {
   "cell_type": "code",
   "execution_count": 20,
   "outputs": [
    {
     "data": {
      "text/plain": "tensor(20.)"
     },
     "execution_count": 20,
     "metadata": {},
     "output_type": "execute_result"
    }
   ],
   "source": [
    "#dot向量与向量的内积运算\n",
    "a = torch.Tensor([1, 2, 3])\n",
    "b = torch.Tensor([2, 3, 4])\n",
    "torch.dot(a, b)"
   ],
   "metadata": {
    "collapsed": false,
    "pycharm": {
     "name": "#%%\n"
    }
   }
  },
  {
   "cell_type": "code",
   "execution_count": 21,
   "outputs": [
    {
     "name": "stdout",
     "output_type": "stream",
     "text": [
      "tensor([[1., 2., 3.],\n",
      "        [2., 3., 4.],\n",
      "        [3., 4., 5.]])\n",
      "tensor([1., 2., 3.])\n"
     ]
    },
    {
     "data": {
      "text/plain": "tensor([14., 20., 26.])"
     },
     "execution_count": 21,
     "metadata": {},
     "output_type": "execute_result"
    }
   ],
   "source": [
    "#mv实现矩阵与向量的运算,m代表矩阵，v代表向量\n",
    "a = torch.Tensor([[1, 2, 3], [2, 3, 4], [3, 4, 5]])\n",
    "print(a)\n",
    "\n",
    "b = torch.Tensor([1, 2, 3])\n",
    "print(b)\n",
    "\n",
    "torch.mv(a, b)"
   ],
   "metadata": {
    "collapsed": false,
    "pycharm": {
     "name": "#%%\n"
    }
   }
  },
  {
   "cell_type": "code",
   "execution_count": 22,
   "outputs": [
    {
     "name": "stdout",
     "output_type": "stream",
     "text": [
      "tensor([[1., 2., 3.],\n",
      "        [2., 3., 4.],\n",
      "        [3., 4., 5.]])\n",
      "tensor([[2., 3., 4.],\n",
      "        [3., 4., 5.],\n",
      "        [4., 5., 6.]])\n"
     ]
    },
    {
     "data": {
      "text/plain": "tensor([[20., 26., 32.],\n        [29., 38., 47.],\n        [38., 50., 62.]])"
     },
     "execution_count": 22,
     "metadata": {},
     "output_type": "execute_result"
    }
   ],
   "source": [
    "#mm将两个矩阵相乘\n",
    "a = torch.Tensor([[1, 2, 3], [2, 3, 4], [3, 4, 5]])\n",
    "print(a)\n",
    "\n",
    "b = torch.Tensor([[2, 3, 4], [3, 4, 5], [4, 5, 6]])\n",
    "print(b)\n",
    "\n",
    "torch.mm(a,b)"
   ],
   "metadata": {
    "collapsed": false,
    "pycharm": {
     "name": "#%%\n"
    }
   }
  },
  {
   "cell_type": "markdown",
   "source": [
    "还有其他运算:\n",
    "<img alt=\"运算\" height=\"800\" src=\"2-4.jpeg\" width=\"1600\"/>"
   ],
   "metadata": {
    "collapsed": false,
    "pycharm": {
     "name": "#%% md\n"
    }
   }
  },
  {
   "cell_type": "markdown",
   "source": [
    "### 6连接和切片"
   ],
   "metadata": {
    "collapsed": false,
    "pycharm": {
     "name": "#%% md\n"
    }
   }
  },
  {
   "cell_type": "code",
   "execution_count": 23,
   "outputs": [
    {
     "name": "stdout",
     "output_type": "stream",
     "text": [
      "tensor([[0.9139, 0.8218],\n",
      "        [0.9427, 0.4544]])\n",
      "tensor([[0.0674, 0.1888],\n",
      "        [0.6277, 0.3100]])\n",
      "tensor([[0.9139, 0.8218],\n",
      "        [0.9427, 0.4544],\n",
      "        [0.0674, 0.1888],\n",
      "        [0.6277, 0.3100]])\n",
      "tensor([[0.9139, 0.8218, 0.0674, 0.1888],\n",
      "        [0.9427, 0.4544, 0.6277, 0.3100]])\n"
     ]
    }
   ],
   "source": [
    "#使用cat将多个Tensor沿莫纬度进行连接\n",
    "a=torch.rand(2,2)\n",
    "print(a)\n",
    "\n",
    "b=torch.rand(2,2)\n",
    "print(b)\n",
    "\n",
    "#在第0纬上进行连接\n",
    "print(torch.cat((a,b),0))\n",
    "\n",
    "#在第2纬上进行连接\n",
    "print(torch.cat((a,b),1))"
   ],
   "metadata": {
    "collapsed": false,
    "pycharm": {
     "name": "#%%\n"
    }
   }
  },
  {
   "cell_type": "code",
   "execution_count": 24,
   "outputs": [
    {
     "name": "stdout",
     "output_type": "stream",
     "text": [
      "tensor([[0.8602, 0.0832, 0.7501, 0.3749],\n",
      "        [0.0413, 0.2082, 0.2783, 0.1865]])\n"
     ]
    },
    {
     "data": {
      "text/plain": "(tensor([[0.8602, 0.0832],\n         [0.0413, 0.2082]]),\n tensor([[0.7501, 0.3749],\n         [0.2783, 0.1865]]))"
     },
     "execution_count": 24,
     "metadata": {},
     "output_type": "execute_result"
    }
   ],
   "source": [
    "#使用chunk进行切片，有三个参数，一个是切片对象，第二个是切片块数，第三个是切片纬度\n",
    "c=torch.rand(2,4)\n",
    "print(c)\n",
    "\n",
    "torch.chunk(c,2,1)"
   ],
   "metadata": {
    "collapsed": false,
    "pycharm": {
     "name": "#%%\n"
    }
   }
  },
  {
   "cell_type": "code",
   "execution_count": 25,
   "outputs": [
    {
     "name": "stdout",
     "output_type": "stream",
     "text": [
      "tensor([[0.7594, 0.7030],\n",
      "        [0.2962, 0.5419]])\n",
      "tensor([[0.7594, 0.2962],\n",
      "        [0.7030, 0.5419]])\n"
     ]
    }
   ],
   "source": [
    "#使用t进行转置\n",
    "a=torch.rand(2,2)\n",
    "print(a)\n",
    "\n",
    "print(torch.t(a))"
   ],
   "metadata": {
    "collapsed": false,
    "pycharm": {
     "name": "#%%\n"
    }
   }
  },
  {
   "cell_type": "markdown",
   "source": [
    "还有其他功能：\n",
    "<img alt=\"连接切片功能\" height=\"800\" src=\"2-5.jpeg\" width=\"1600\"/>"
   ],
   "metadata": {
    "collapsed": false,
    "pycharm": {
     "name": "#%% md\n"
    }
   }
  },
  {
   "cell_type": "markdown",
   "source": [
    "### 7变形"
   ],
   "metadata": {
    "collapsed": false,
    "pycharm": {
     "name": "#%% md\n"
    }
   }
  },
  {
   "cell_type": "code",
   "execution_count": 29,
   "outputs": [
    {
     "name": "stdout",
     "output_type": "stream",
     "text": [
      "tensor([[[0.8939, 0.1109, 0.1723, 0.6760],\n",
      "         [0.5119, 0.5615, 0.8712, 0.6815],\n",
      "         [0.1948, 0.7902, 0.9133, 0.9729]],\n",
      "\n",
      "        [[0.2825, 0.1340, 0.0606, 0.5601],\n",
      "         [0.1417, 0.2061, 0.6101, 0.6111],\n",
      "         [0.3187, 0.1592, 0.4177, 0.3753]]])\n",
      "tensor([[0.8939, 0.1109, 0.1723, 0.6760, 0.5119, 0.5615, 0.8712, 0.6815, 0.1948,\n",
      "         0.7902, 0.9133, 0.9729],\n",
      "        [0.2825, 0.1340, 0.0606, 0.5601, 0.1417, 0.2061, 0.6101, 0.6111, 0.3187,\n",
      "         0.1592, 0.4177, 0.3753]])\n",
      "tensor([[0.8939],\n",
      "        [0.1109],\n",
      "        [0.1723],\n",
      "        [0.6760],\n",
      "        [0.5119],\n",
      "        [0.5615],\n",
      "        [0.8712],\n",
      "        [0.6815],\n",
      "        [0.1948],\n",
      "        [0.7902],\n",
      "        [0.9133],\n",
      "        [0.9729],\n",
      "        [0.2825],\n",
      "        [0.1340],\n",
      "        [0.0606],\n",
      "        [0.5601],\n",
      "        [0.1417],\n",
      "        [0.2061],\n",
      "        [0.6101],\n",
      "        [0.6111],\n",
      "        [0.3187],\n",
      "        [0.1592],\n",
      "        [0.4177],\n",
      "        [0.3753]])\n",
      "torch.Size([24, 1])\n"
     ]
    }
   ],
   "source": [
    "x=torch.rand(2,3,4)\n",
    "print(x)\n",
    "\n",
    "y=x.view(2,12)\n",
    "print(y)\n",
    "\n",
    "z=x.view(-1,1)#使用-1时会自动计算纬度的数目\n",
    "print(z)\n",
    "print(z.size())"
   ],
   "metadata": {
    "collapsed": false,
    "pycharm": {
     "name": "#%%\n"
    }
   }
  },
  {
   "cell_type": "markdown",
   "source": [
    "### 8使用cuda加速"
   ],
   "metadata": {
    "collapsed": false,
    "pycharm": {
     "name": "#%% md\n"
    }
   }
  },
  {
   "cell_type": "code",
   "execution_count": 30,
   "outputs": [
    {
     "data": {
      "text/plain": "False"
     },
     "execution_count": 30,
     "metadata": {},
     "output_type": "execute_result"
    }
   ],
   "source": [
    "# 看机器是否支持cuda\n",
    "torch.cuda.is_available()"
   ],
   "metadata": {
    "collapsed": false,
    "pycharm": {
     "name": "#%%\n"
    }
   }
  },
  {
   "cell_type": "code",
   "execution_count": 32,
   "outputs": [
    {
     "name": "stdout",
     "output_type": "stream",
     "text": [
      "CPU计算时间:1.884241553000038\n",
      "未支持CUDA\n"
     ]
    }
   ],
   "source": [
    "#对比cpu和gpu运算时间\n",
    "#coding=utf-8\n",
    "from time import perf_counter\n",
    "\n",
    "x = torch.rand(1000,10000)\n",
    "y = torch.rand(10000,10000)\n",
    "\n",
    "#CPU\n",
    "start = perf_counter()\n",
    "x.mm(y)\n",
    "finish = perf_counter()\n",
    "time = finish-start\n",
    "print(\"CPU计算时间:%s\" % time)\n",
    "\n",
    "#GPU\n",
    "if torch.cuda.is_available():\n",
    "\tx = x.cuda()\n",
    "\ty = y.cuda()\n",
    "\tstart = perf_counter()\n",
    "\tx.mm(y)\n",
    "\tfinish = perf_counter()\n",
    "\ttime_cuda = finish-start\n",
    "\tprint(\"GPU加速计算的时间:%s\" % time_cuda)\n",
    "\tprint(\"CPU计算时间是GPU加速计算时间的%s倍\" % str(time/time_cuda))\n",
    "\n",
    "else:\n",
    "\tprint(\"未支持CUDA\")\n"
   ],
   "metadata": {
    "collapsed": false,
    "pycharm": {
     "name": "#%%\n"
    }
   }
  },
  {
   "cell_type": "markdown",
   "source": [
    "## Autograd"
   ],
   "metadata": {
    "collapsed": false,
    "pycharm": {
     "name": "#%% md\n"
    }
   }
  },
  {
   "cell_type": "code",
   "execution_count": null,
   "outputs": [],
   "source": [],
   "metadata": {
    "collapsed": false,
    "pycharm": {
     "name": "#%%\n"
    }
   }
  },
  {
   "cell_type": "code",
   "execution_count": null,
   "outputs": [],
   "source": [],
   "metadata": {
    "collapsed": false,
    "pycharm": {
     "name": "#%%\n"
    }
   }
  },
  {
   "cell_type": "code",
   "execution_count": null,
   "outputs": [],
   "source": [],
   "metadata": {
    "collapsed": false,
    "pycharm": {
     "name": "#%%\n"
    }
   }
  },
  {
   "cell_type": "code",
   "execution_count": null,
   "outputs": [],
   "source": [],
   "metadata": {
    "collapsed": false,
    "pycharm": {
     "name": "#%%\n"
    }
   }
  },
  {
   "cell_type": "code",
   "execution_count": null,
   "outputs": [],
   "source": [],
   "metadata": {
    "collapsed": false,
    "pycharm": {
     "name": "#%%\n"
    }
   }
  }
 ],
 "metadata": {
  "kernelspec": {
   "display_name": "Python 3",
   "language": "python",
   "name": "python3"
  },
  "language_info": {
   "codemirror_mode": {
    "name": "ipython",
    "version": 2
   },
   "file_extension": ".py",
   "mimetype": "text/x-python",
   "name": "python",
   "nbconvert_exporter": "python",
   "pygments_lexer": "ipython2",
   "version": "2.7.6"
  }
 },
 "nbformat": 4,
 "nbformat_minor": 0
}